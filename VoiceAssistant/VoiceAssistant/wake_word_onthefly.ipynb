{
 "cells": [
  {
   "cell_type": "code",
   "execution_count": 1,
   "metadata": {},
   "outputs": [
    {
     "name": "stdout",
     "output_type": "stream",
     "text": [
      "pygame 2.4.0 (SDL 2.26.4, Python 3.10.8)\n",
      "Hello from the pygame community. https://www.pygame.org/contribute.html\n"
     ]
    }
   ],
   "source": [
    "from tensorflow.keras.models import load_model\n",
    "import librosa\n",
    "import pygame\n",
    "import numpy as np\n",
    "import time\n",
    "import json\n",
    "from uuid import uuid4\n",
    "import requests"
   ]
  },
  {
   "cell_type": "code",
   "execution_count": 2,
   "metadata": {},
   "outputs": [],
   "source": [
    "import pyaudio\n",
    "import numpy as np\n",
    "\n",
    "def record_audio(duration, sample_rate):\n",
    "    chunk_size = 1024\n",
    "    audio_buffer = []\n",
    "\n",
    "    p = pyaudio.PyAudio()\n",
    "    stream = p.open(format=pyaudio.paInt16, channels=1, rate=sample_rate, input=True, frames_per_buffer=chunk_size)\n",
    "\n",
    "    num_frames = int(duration * sample_rate / chunk_size)\n",
    "    for _ in range(num_frames):\n",
    "        data = stream.read(chunk_size)\n",
    "        audio_buffer.append(np.frombuffer(data, dtype=np.int16))\n",
    "\n",
    "    stream.stop_stream()\n",
    "    stream.close()\n",
    "    p.terminate()\n",
    "\n",
    "    audio_data = np.concatenate(audio_buffer)\n",
    "    return audio_data\n",
    "\n",
    "# Hangrögzítés 4 másodpercig, 44100 mintavételezési ráta mellett\n",
    "duration = 4  # Másodpercekben\n",
    "sample_rate = 22050  # Mintavételezési ráta\n",
    "\n",
    "model = load_model('./wake_wordv1.h5')\n",
    "np.set_printoptions(suppress=True)"
   ]
  },
  {
   "cell_type": "code",
   "execution_count": 3,
   "metadata": {},
   "outputs": [],
   "source": [
    "import librosa\n",
    "import librosa.util\n",
    "import numpy as np\n",
    "\n",
    "def preprocess_log_mel_spectrogram_pyaudio(audio_data, sr, n_mels=128, duration=4.0):\n",
    "    # Convert audio data to floating-point\n",
    "    audio_data = librosa.util.buf_to_float(audio_data)\n",
    "\n",
    "    hop_length = int(sr * (0.02 - 0.01))\n",
    "    # Extract the Log-Mel-spectrogram\n",
    "    mel_spectrogram = librosa.feature.melspectrogram(audio_data, sr=sr, n_mels=n_mels, hop_length=hop_length)\n",
    "    log_mel_spectrogram = librosa.amplitude_to_db(mel_spectrogram, ref=np.max)\n",
    "\n",
    "    return log_mel_spectrogram"
   ]
  },
  {
   "cell_type": "code",
   "execution_count": 35,
   "metadata": {},
   "outputs": [],
   "source": [
    "list = [1,2,3,4,5,6,7,8,9,1,2,3]"
   ]
  },
  {
   "cell_type": "code",
   "execution_count": 56,
   "metadata": {},
   "outputs": [],
   "source": [
    "class Command:\n",
    "    def __init__(self, commandSentense):\n",
    "        self.id = str(uuid4())\n",
    "        self.commandSentense = commandSentense\n",
    "\n",
    "def wakeworddet():\n",
    "\n",
    "    audio_data = record_audio(3.0, sample_rate)\n",
    "    spec_to_predict = preprocess_log_mel_spectrogram_pyaudio(audio_data, 22050)\n",
    "    desired_shape = model.input_shape\n",
    "\n",
    "    # Kiszámítjuk a szükséges padding-et az első két dimenzióra\n",
    "    pad_width = [(0, desired_shape[1] - spec_to_predict.shape[0]),\n",
    "             (0, desired_shape[2] - spec_to_predict.shape[1])]\n",
    "\n",
    "    # Padding-et alkalmazunk a spektrogramra\n",
    "    padded_spec = np.pad(spec_to_predict, pad_width, mode='constant')\n",
    "\n",
    "\n",
    "    spec_to_predict = np.expand_dims(padded_spec, axis=-1)\n",
    "\n",
    "\n",
    "    spec_to_predict_batch = np.expand_dims(spec_to_predict, axis=0)\n",
    "\n",
    "    predictions = model.predict(spec_to_predict_batch)\n",
    "    print(predictions)\n",
    "\n",
    "\n",
    "\n",
    "    if predictions > .95:\n",
    "        payload = Command(\"wakeword\")\n",
    "        url = \"http://localhost:5025/Command\"\n",
    "        headers = {'Content-Type': 'application/json'}\n",
    "        data = json.dumps(payload.__dict__)\n",
    "        response = requests.post(url, headers=headers, data=data)\n",
    "        print('wakeword')\n",
    "    else:\n",
    "        print('--------------')\n",
    "    "
   ]
  },
  {
   "cell_type": "code",
   "execution_count": null,
   "metadata": {},
   "outputs": [],
   "source": [
    "\n",
    "import threading\n",
    "import time\n",
    "\n",
    "\n",
    "\n",
    "while True:    \n",
    "    szal = threading.Thread(target=wakeworddet)\n",
    "    szal.start()\n",
    "    time.sleep(3)"
   ]
  }
 ],
 "metadata": {
  "kernelspec": {
   "display_name": "tf2.10",
   "language": "python",
   "name": "python3"
  },
  "language_info": {
   "codemirror_mode": {
    "name": "ipython",
    "version": 3
   },
   "file_extension": ".py",
   "mimetype": "text/x-python",
   "name": "python",
   "nbconvert_exporter": "python",
   "pygments_lexer": "ipython3",
   "version": "3.10.8"
  },
  "orig_nbformat": 4
 },
 "nbformat": 4,
 "nbformat_minor": 2
}
