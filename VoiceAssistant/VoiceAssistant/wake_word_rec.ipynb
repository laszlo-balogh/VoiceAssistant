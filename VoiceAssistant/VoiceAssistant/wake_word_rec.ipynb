{
 "cells": [
  {
   "cell_type": "code",
   "execution_count": 1,
   "metadata": {},
   "outputs": [],
   "source": [
    "import librosa"
   ]
  },
  {
   "cell_type": "code",
   "execution_count": 11,
   "metadata": {},
   "outputs": [
    {
     "name": "stderr",
     "output_type": "stream",
     "text": [
      "C:\\Users\\Laci\\AppData\\Local\\Temp\\ipykernel_9124\\1721168264.py:2: FutureWarning: Pass y=[ 1.19364095e-05  1.78441944e-04  3.54877295e-04 ... -5.26354097e-06\n",
      "  5.56010036e-06  0.00000000e+00] as keyword args. From version 0.10 passing these as positional arguments will result in an error\n",
      "  mfccs = librosa.feature.mfcc(data, sr=sr)\n"
     ]
    }
   ],
   "source": [
    "data,sr= librosa.load('./commands/bongeszo/bongeszo--hangNormTempoMinusz5Szazalek-01.wav')\n",
    "mfccs = librosa.feature.mfcc(data, sr=sr)"
   ]
  },
  {
   "cell_type": "code",
   "execution_count": 12,
   "metadata": {},
   "outputs": [
    {
     "data": {
      "text/plain": [
       "(20, 95)"
      ]
     },
     "execution_count": 12,
     "metadata": {},
     "output_type": "execute_result"
    }
   ],
   "source": [
    "mfccs.shape"
   ]
  },
  {
   "cell_type": "code",
   "execution_count": 2,
   "metadata": {},
   "outputs": [],
   "source": [
    "import os\n",
    "import librosa\n",
    "import numpy as np\n",
    "\n",
    "# Define constants\n",
    "SAMPLE_RATE = 22050\n",
    "WINDOW_SIZE = 0.1 # Window size in seconds\n",
    "WINDOW_STRIDE = 0.05 # Window stride in seconds\n",
    "N_MFCC = 20 # Number of MFCC coefficients to compute\n",
    "\n",
    "# Define function to extract MFCCs from audio file\n",
    "def extract_mfcc(file_path):\n",
    "    # Load audio file\n",
    "    signal, sr = librosa.load(file_path, sr=SAMPLE_RATE)\n",
    "\n",
    "    # Compute MFCCs using sliding window\n",
    "    mfccs = []\n",
    "    for i in range(0, len(signal) - int(WINDOW_SIZE * SAMPLE_RATE), int(WINDOW_STRIDE * SAMPLE_RATE)):\n",
    "        window = signal[i:i + int(WINDOW_SIZE * SAMPLE_RATE)]\n",
    "        mfcc = librosa.feature.mfcc(window, sr=SAMPLE_RATE, n_mfcc=N_MFCC)\n",
    "        mfccs.append(mfcc)\n",
    "\n",
    "    return mfccs\n",
    "\n",
    "# Define function to load and extract MFCCs from multiple audio files\n",
    "def load_data(data_dir):\n",
    "    # Initialize lists to store data\n",
    "    X = []\n",
    "    y = []\n",
    "\n",
    "    # Loop over subdirectories (each subdirectory represents a class)\n",
    "    for i, sub_dir in enumerate(os.listdir(data_dir)):\n",
    "        sub_dir_path = os.path.join(data_dir, sub_dir)\n",
    "\n",
    "        # Loop over audio files in subdirectory\n",
    "        for file_name in os.listdir(sub_dir_path):\n",
    "            file_path = os.path.join(sub_dir_path, file_name)\n",
    "\n",
    "            # Extract MFCCs from audio file\n",
    "            mfccs = extract_mfcc(file_path)\n",
    "\n",
    "            # Append MFCCs and label to data lists\n",
    "            X.append(mfccs)\n",
    "            y.append(i)\n",
    "\n",
    "    # Convert data lists to numpy arrays\n",
    "    X = np.array(X)\n",
    "    y = np.array(y)\n",
    "\n",
    "    return X, y\n"
   ]
  },
  {
   "cell_type": "code",
   "execution_count": null,
   "metadata": {},
   "outputs": [],
   "source": []
  },
  {
   "cell_type": "code",
   "execution_count": 3,
   "metadata": {},
   "outputs": [],
   "source": [
    "import keras\n",
    "from keras.utils import to_categorical"
   ]
  },
  {
   "cell_type": "code",
   "execution_count": null,
   "metadata": {
    "tags": []
   },
   "outputs": [],
   "source": [
    "%%capture\n",
    "# Load data from directory containing audio files\n",
    "data_dir = './commands/'\n",
    "X, y = load_data(data_dir)\n",
    "\n",
    "# Print shape of data arrays\n",
    "print(X.shape) # Shape should be (num_files, num_windows, num_mfcc, window_size_in_frames)\n",
    "print(y.shape) # Shape should be (num_files,)\n",
    "\n",
    "# Convert labels to one-hot encoded format\n",
    "y = to_categorical(y, num_classes=11)\n",
    "\n",
    "\n",
    "# Print shape of data arrays\n",
    "print(X.shape) # Shape should be (num_files, num_windows, num_mfcc, window_size_in_frames)\n",
    "print(y.shape) # Shape should be (num_files, num_classes)"
   ]
  },
  {
   "cell_type": "code",
   "execution_count": 20,
   "metadata": {},
   "outputs": [],
   "source": [
    "from tensorflow.keras.models import Sequential\n",
    "from tensorflow.keras.layers import LSTM, Dense, Dropout\n",
    "from tensorflow.keras.callbacks import EarlyStopping, ModelCheckpoint\n",
    "from sklearn.model_selection import train_test_split"
   ]
  },
  {
   "cell_type": "code",
   "execution_count": 21,
   "metadata": {},
   "outputs": [],
   "source": [
    "X_train_val, X_test, y_train_val, y_test = train_test_split(X, y, test_size=0.2, random_state=42, shuffle=True)\n",
    "X_train, X_val, y_train, y_val = train_test_split(X_train_val, y_train_val, test_size=0.2, random_state=42, shuffle=True)"
   ]
  },
  {
   "cell_type": "code",
   "execution_count": 22,
   "metadata": {},
   "outputs": [],
   "source": [
    "num_classes=11"
   ]
  },
  {
   "cell_type": "code",
   "execution_count": 24,
   "metadata": {},
   "outputs": [
    {
     "ename": "IndexError",
     "evalue": "tuple index out of range",
     "output_type": "error",
     "traceback": [
      "\u001b[1;31m---------------------------------------------------------------------------\u001b[0m",
      "\u001b[1;31mIndexError\u001b[0m                                Traceback (most recent call last)",
      "\u001b[1;32md:\\Egyetem\\projektmunka\\lstm\\wake_word_rec.ipynb Cell 11\u001b[0m in \u001b[0;36m5\n\u001b[0;32m      <a href='vscode-notebook-cell:/d%3A/Egyetem/projektmunka/lstm/wake_word_rec.ipynb#X12sZmlsZQ%3D%3D?line=0'>1</a>\u001b[0m model \u001b[39m=\u001b[39m Sequential()\n\u001b[0;32m      <a href='vscode-notebook-cell:/d%3A/Egyetem/projektmunka/lstm/wake_word_rec.ipynb#X12sZmlsZQ%3D%3D?line=1'>2</a>\u001b[0m model\u001b[39m.\u001b[39madd(LSTM(\u001b[39m128\u001b[39m,\n\u001b[0;32m      <a href='vscode-notebook-cell:/d%3A/Egyetem/projektmunka/lstm/wake_word_rec.ipynb#X12sZmlsZQ%3D%3D?line=2'>3</a>\u001b[0m                recurrent_dropout\u001b[39m=\u001b[39m\u001b[39m0.1\u001b[39m,\n\u001b[0;32m      <a href='vscode-notebook-cell:/d%3A/Egyetem/projektmunka/lstm/wake_word_rec.ipynb#X12sZmlsZQ%3D%3D?line=3'>4</a>\u001b[0m                return_sequences\u001b[39m=\u001b[39m\u001b[39mTrue\u001b[39;00m,\n\u001b[1;32m----> <a href='vscode-notebook-cell:/d%3A/Egyetem/projektmunka/lstm/wake_word_rec.ipynb#X12sZmlsZQ%3D%3D?line=4'>5</a>\u001b[0m                input_shape\u001b[39m=\u001b[39m(X_train\u001b[39m.\u001b[39;49mshape[\u001b[39m1\u001b[39;49m], X_train\u001b[39m.\u001b[39mshape[\u001b[39m2\u001b[39m])))\n\u001b[0;32m      <a href='vscode-notebook-cell:/d%3A/Egyetem/projektmunka/lstm/wake_word_rec.ipynb#X12sZmlsZQ%3D%3D?line=5'>6</a>\u001b[0m model\u001b[39m.\u001b[39madd(LSTM(\u001b[39m128\u001b[39m,\n\u001b[0;32m      <a href='vscode-notebook-cell:/d%3A/Egyetem/projektmunka/lstm/wake_word_rec.ipynb#X12sZmlsZQ%3D%3D?line=6'>7</a>\u001b[0m                recurrent_dropout\u001b[39m=\u001b[39m\u001b[39m0.1\u001b[39m))\n\u001b[0;32m      <a href='vscode-notebook-cell:/d%3A/Egyetem/projektmunka/lstm/wake_word_rec.ipynb#X12sZmlsZQ%3D%3D?line=7'>8</a>\u001b[0m model\u001b[39m.\u001b[39madd(Dense(\u001b[39m64\u001b[39m, activation\u001b[39m=\u001b[39m\u001b[39m'\u001b[39m\u001b[39mrelu\u001b[39m\u001b[39m'\u001b[39m))\n",
      "\u001b[1;31mIndexError\u001b[0m: tuple index out of range"
     ]
    }
   ],
   "source": [
    "model = Sequential()\n",
    "model.add(LSTM(128,\n",
    "               recurrent_dropout=0.1,\n",
    "               return_sequences=True,\n",
    "               input_shape=(X_train.shape[1], X_train.shape[2])))\n",
    "model.add(LSTM(128,\n",
    "               recurrent_dropout=0.1))\n",
    "model.add(Dense(64, activation='relu'))\n",
    "model.add(Dense(num_classes, activation='softmax'))"
   ]
  }
 ],
 "metadata": {
  "kernelspec": {
   "display_name": "tf2.10",
   "language": "python",
   "name": "python3"
  },
  "language_info": {
   "codemirror_mode": {
    "name": "ipython",
    "version": 3
   },
   "file_extension": ".py",
   "mimetype": "text/x-python",
   "name": "python",
   "nbconvert_exporter": "python",
   "pygments_lexer": "ipython3",
   "version": "3.10.8"
  }
 },
 "nbformat": 4,
 "nbformat_minor": 4
}
